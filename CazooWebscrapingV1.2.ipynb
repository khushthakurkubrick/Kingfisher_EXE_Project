{
 "cells": [
  {
   "cell_type": "code",
   "execution_count": 1,
   "id": "d2190a35",
   "metadata": {},
   "outputs": [],
   "source": [
    "import requests #Importing required modules\n",
    "from bs4 import BeautifulSoup\n",
    "import pandas as pd\n",
    "url = fr'https://www.cazoo.co.uk/cars/?page=1' \n",
    "useragent = 'Mozilla/5.0 (Windows NT 10.0; Win64; x64) AppleWebKit/537.36 (KHTML, like Gecko) Chrome/96.0.4664.110 Safari/537.36'\n",
    "r = requests.get(url, headers = {'user-agent': useragent})\n",
    "soup = BeautifulSoup(r.content, 'html.parser')\n",
    "\n",
    "results = soup.find_all('article',{'class':'vehicle-cardstyles__Card-sc-1bxv5iu-0 giiAxy'})"
   ]
  },
  {
   "cell_type": "markdown",
   "id": "0c84b7bc",
   "metadata": {},
   "source": [
    "### Make"
   ]
  },
  {
   "cell_type": "code",
   "execution_count": 10,
   "id": "7995e386",
   "metadata": {},
   "outputs": [
    {
     "data": {
      "text/plain": [
       "'Suzuki'"
      ]
     },
     "execution_count": 10,
     "metadata": {},
     "output_type": "execute_result"
    }
   ],
   "source": [
    "results[0].find('h2',{'class':'vehicle-cardstyles__Title-sc-1bxv5iu-6 ffMRuV'}).text.split()[0]"
   ]
  },
  {
   "cell_type": "markdown",
   "id": "98aa95e5",
   "metadata": {},
   "source": [
    "### Model"
   ]
  },
  {
   "cell_type": "code",
   "execution_count": 12,
   "id": "337bff96",
   "metadata": {},
   "outputs": [
    {
     "data": {
      "text/plain": [
       "'Celerio'"
      ]
     },
     "execution_count": 12,
     "metadata": {},
     "output_type": "execute_result"
    }
   ],
   "source": [
    "results[0].find('h2',{'class':'vehicle-cardstyles__Title-sc-1bxv5iu-6 ffMRuV'}).text.split()[1]"
   ]
  },
  {
   "cell_type": "markdown",
   "id": "cfa5fcee",
   "metadata": {},
   "source": [
    "### Engine Size"
   ]
  },
  {
   "cell_type": "code",
   "execution_count": 20,
   "id": "9e4b9d24",
   "metadata": {},
   "outputs": [
    {
     "data": {
      "text/plain": [
       "'1L'"
      ]
     },
     "execution_count": 20,
     "metadata": {},
     "output_type": "execute_result"
    }
   ],
   "source": [
    "results[0].find('p',{'class':'vehicle-cardstyles__DisplayVariant-sc-1bxv5iu-7 cErJHu'}).text.split()[0]"
   ]
  },
  {
   "cell_type": "markdown",
   "id": "eb1c6bed",
   "metadata": {},
   "source": [
    "### Price"
   ]
  },
  {
   "cell_type": "code",
   "execution_count": 21,
   "id": "eeaeef96",
   "metadata": {},
   "outputs": [
    {
     "data": {
      "text/plain": [
       "'£6,425'"
      ]
     },
     "execution_count": 21,
     "metadata": {},
     "output_type": "execute_result"
    }
   ],
   "source": [
    "results[0].find('p',{'data-test-id':'card-pricing-full-price-gb'}).text"
   ]
  },
  {
   "cell_type": "markdown",
   "id": "8f012c5b",
   "metadata": {},
   "source": [
    "### Image"
   ]
  },
  {
   "cell_type": "code",
   "execution_count": 23,
   "id": "cdb17dac",
   "metadata": {},
   "outputs": [
    {
     "data": {
      "text/plain": [
       "'https://res.cloudinary.com/cazoo/image/upload/c_scale,f_auto,h_405,q_auto,w_720/cazoo-imagery/car_gallery_images/MMSLFE42S00159192/AFszlEHgaBZ4iHyGiD5p.JPG'"
      ]
     },
     "execution_count": 23,
     "metadata": {},
     "output_type": "execute_result"
    }
   ],
   "source": [
    "results[0].find('img')['src']"
   ]
  },
  {
   "cell_type": "markdown",
   "id": "ca677006",
   "metadata": {},
   "source": [
    "### Milage"
   ]
  },
  {
   "cell_type": "code",
   "execution_count": 43,
   "id": "cedb6428",
   "metadata": {},
   "outputs": [
    {
     "data": {
      "text/plain": [
       "'7,818 miles'"
      ]
     },
     "execution_count": 43,
     "metadata": {},
     "output_type": "execute_result"
    }
   ],
   "source": [
    "(results[0].find_all('li',{'class':'tagstyles__Wrap-fucsb4-0 cfDCga'})[0].text)"
   ]
  },
  {
   "cell_type": "markdown",
   "id": "cfba52f4",
   "metadata": {},
   "source": [
    "### Reg Year"
   ]
  },
  {
   "cell_type": "code",
   "execution_count": 35,
   "id": "4a2a6d60",
   "metadata": {},
   "outputs": [
    {
     "data": {
      "text/plain": [
       "'2017 reg'"
      ]
     },
     "execution_count": 35,
     "metadata": {},
     "output_type": "execute_result"
    }
   ],
   "source": [
    "results[0].find_all('li',{'class':'tagstyles__Wrap-fucsb4-0 cfDCga'})[1].text"
   ]
  },
  {
   "cell_type": "markdown",
   "id": "b7907a00",
   "metadata": {},
   "source": [
    "### All of page 1"
   ]
  },
  {
   "cell_type": "code",
   "execution_count": 3,
   "id": "299dbdf0",
   "metadata": {},
   "outputs": [],
   "source": [
    "make = []\n",
    "model = []\n",
    "enginesize = []\n",
    "price = []\n",
    "image = []\n",
    "milage = []\n",
    "reg_year = []\n",
    "transmission = []\n",
    "fuel = []\n",
    "transmission_list = ['Manual', 'Automatic']\n",
    "fuel_type_list = ['Petrol','Diesel','Electric','Hybrid','Plug_in_Hybrid']\n",
    "\n",
    "import requests\n",
    "from bs4 import BeautifulSoup\n",
    "import pandas as pd\n",
    "\n",
    "\n",
    "useragent = 'Mozilla/5.0 (Windows NT 10.0; Win64; x64) AppleWebKit/537.36 (KHTML, like Gecko) Chrome/96.0.4664.110 Safari/537.36'\n",
    "\n",
    "for fuel_type in fuel_type_list:\n",
    "    for transmission_type in transmission_list:\n",
    "        url = fr'https://www.cazoo.co.uk/cars/?fuelType={fuel_type}&gearbox={transmission_type}&page=1'\n",
    "        r = requests.get(url, headers = {'user-agent': useragent})\n",
    "        soup = BeautifulSoup(r.content, 'html.parser')\n",
    "        results = soup.find_all('article',{'class':'vehicle-cardstyles__Card-sc-1bxv5iu-0 giiAxy'})\n",
    "\n",
    "        for result in results:\n",
    "            try:\n",
    "                make.append(result.find('h2',{'class':'vehicle-cardstyles__Title-sc-1bxv5iu-6 ffMRuV'}).text.split()[0])\n",
    "            except:\n",
    "                make.append(None)\n",
    "            try:\n",
    "                model.append(result.find('h2',{'class':'vehicle-cardstyles__Title-sc-1bxv5iu-6 ffMRuV'}).text.split()[1])\n",
    "            except:\n",
    "                model.append(None)\n",
    "            try:\n",
    "                enginesize.append(result.find('p',{'class':'vehicle-cardstyles__DisplayVariant-sc-1bxv5iu-7 cErJHu'}).text.split()[0])\n",
    "            except:\n",
    "                enginesize.append(None)\n",
    "            try:\n",
    "                price.append(result.find('p',{'data-test-id':'card-pricing-full-price-gb'}).text)\n",
    "            except:\n",
    "                price.append(None)\n",
    "            try:\n",
    "                image.append(result.find('img')['src'])\n",
    "            except:\n",
    "                image.append(None)\n",
    "            try:\n",
    "                milage.append(result.find_all('li',{'class':'tagstyles__Wrap-fucsb4-0 cfDCga'})[0].text)\n",
    "            except:\n",
    "                milage.append(None)\n",
    "            try:\n",
    "                reg_year.append(result.find_all('li',{'class':'tagstyles__Wrap-fucsb4-0 cfDCga'})[1].text)\n",
    "            except:\n",
    "                reg_year.append(None)\n",
    "            transmission.append(transmission_type)\n",
    "            fuel.append(fuel_type)\n",
    "    \n",
    "        \n",
    "dict_of_lists = {'Make': make, 'Model': model,'Engine_Size': enginesize,'Price': price,'Milage': milage,'Transmission': transmission,'Fuel_Type': fuel,'Reg_Year': reg_year,'Image': image}\n",
    "\n",
    "df = pd.DataFrame(dict_of_lists)\n",
    "df = df.drop_duplicates(subset = None) "
   ]
  },
  {
   "cell_type": "code",
   "execution_count": 4,
   "id": "17037984",
   "metadata": {},
   "outputs": [
    {
     "name": "stdout",
     "output_type": "stream",
     "text": [
      "       Make    Model Engine_Size    Price        Milage Transmission  \\\n",
      "0    Nissan    Micra        1.2L   £5,600  42,109 miles       Manual   \n",
      "1    Suzuki  Celerio          1L   £6,250   7,818 miles       Manual   \n",
      "2    Toyota     AYGO          1L   £8,150  21,915 miles       Manual   \n",
      "3      Fiat      500        1.2L   £7,350  21,435 miles       Manual   \n",
      "4    Toyota     AYGO          1L   £8,600  16,373 miles       Manual   \n",
      "..      ...      ...         ...      ...           ...          ...   \n",
      "280  Toyota     C-HR        1.8L  £19,850  19,023 miles    Automatic   \n",
      "281     Kia     Niro        1.6L  £18,800  34,979 miles    Automatic   \n",
      "282   Honda     Jazz        1.5L     None       5 miles    Automatic   \n",
      "283   Honda     Jazz        1.5L     None       5 miles    Automatic   \n",
      "285   Honda     Jazz        1.5L     None       5 miles    Automatic   \n",
      "\n",
      "    Fuel_Type  Reg_Year                                              Image  \n",
      "0      Petrol  2016 reg  https://res.cloudinary.com/cazoo/image/upload/...  \n",
      "1      Petrol  2017 reg  https://res.cloudinary.com/cazoo/image/upload/...  \n",
      "2      Petrol  2018 reg  https://res.cloudinary.com/cazoo/image/upload/...  \n",
      "3      Petrol  2017 reg  https://res.cloudinary.com/cazoo/image/upload/...  \n",
      "4      Petrol  2019 reg  https://res.cloudinary.com/cazoo/image/upload/...  \n",
      "..        ...       ...                                                ...  \n",
      "280    Hybrid  2018 reg  https://res.cloudinary.com/cazoo/image/upload/...  \n",
      "281    Hybrid  2017 reg  https://res.cloudinary.com/cazoo/image/upload/...  \n",
      "282    Hybrid  2021 reg  https://res.cloudinary.com/cazoo/image/upload/...  \n",
      "283    Hybrid  2021 reg  https://res.cloudinary.com/cazoo/image/upload/...  \n",
      "285    Hybrid  2021 reg  https://res.cloudinary.com/cazoo/image/upload/...  \n",
      "\n",
      "[281 rows x 9 columns]\n"
     ]
    }
   ],
   "source": [
    "print(df)"
   ]
  },
  {
   "cell_type": "markdown",
   "id": "96d40027",
   "metadata": {},
   "source": [
    "# All pages"
   ]
  },
  {
   "cell_type": "code",
   "execution_count": 44,
   "id": "31647fe5",
   "metadata": {},
   "outputs": [],
   "source": [
    "make = []   # Creating empty arrays for car details\n",
    "model = []\n",
    "enginesize = []\n",
    "price = []\n",
    "image = []\n",
    "milage = []\n",
    "reg_year = []\n",
    "import requests  # Importing relevant modules\n",
    "from bs4 import BeautifulSoup\n",
    "import pandas as pd\n",
    "\n",
    "for i in range(102): # Iterating over 100 pages\n",
    "    pageno = i+1  # increasing page number by 1\n",
    "    url = fr'https://www.cazoo.co.uk/cars/?page={i}'  # assinging url to webscrape\n",
    "    # defining a user agent\n",
    "    useragent = 'Mozilla/5.0 (Windows NT 10.0; Win64; x64) AppleWebKit/537.36 (KHTML, like Gecko) Chrome/96.0.4664.110 Safari/537.36'\n",
    "    r = requests.get(url, headers = {'user-agent': useragent}) # scraping the webpage\n",
    "    soup = BeautifulSoup(r.content, 'html.parser') # creating beautiful soup\n",
    "    # finding the vehicle card containing all details\n",
    "    results = soup.find_all('article',{'class':'vehicle-cardstyles__Card-sc-1bxv5iu-0 giiAxy'})\n",
    "    \n",
    "    for result in results: # iterating over each car detials card\n",
    "        try: # appending car detail make to the array\n",
    "            make.append(result.find('h2',{'class':'vehicle-cardstyles__Title-sc-1bxv5iu-6 ffMRuV'}).text.split()[0])\n",
    "        except:\n",
    "            make.append(None) # if detail is missing then append a None\n",
    "        try:\n",
    "            model.append(result.find('h2',{'class':'vehicle-cardstyles__Title-sc-1bxv5iu-6 ffMRuV'}).text.split()[1])\n",
    "        except:\n",
    "            model.append(None)\n",
    "        try:\n",
    "            enginesize.append(result.find('p',{'class':'vehicle-cardstyles__DisplayVariant-sc-1bxv5iu-7 cErJHu'}).text.split()[0])\n",
    "        except:\n",
    "            enginesize.append(None)\n",
    "        try:\n",
    "            price.append(result.find('p',{'data-test-id':'card-pricing-full-price-gb'}).text)\n",
    "        except:\n",
    "            price.append(None)\n",
    "        try:\n",
    "            image.append(result.find('img')['src'])\n",
    "        except:\n",
    "            image.append(None)\n",
    "        try:\n",
    "            milage.append(result.find_all('li',{'class':'tagstyles__Wrap-fucsb4-0 cfDCga'})[0].text)\n",
    "        except:\n",
    "            milage.append(None)\n",
    "        try:\n",
    "            reg_year.append(result.find_all('li',{'class':'tagstyles__Wrap-fucsb4-0 cfDCga'})[1].text)\n",
    "        except:\n",
    "            reg_year.append(None)\n",
    "    \n",
    "        \n",
    "dict_of_lists = {'Make': make, 'Model': model,'Engine_Size': enginesize,'Price': price,'Milage': milage,'Reg_Year': reg_year,'Image': image}\n",
    "\n",
    "df = pd.DataFrame(dict_of_lists)\n",
    "df = df.drop_duplicates(subset = None) "
   ]
  },
  {
   "cell_type": "code",
   "execution_count": 6,
   "id": "ff43c11b",
   "metadata": {},
   "outputs": [],
   "source": [
    "make = []\n",
    "model = []\n",
    "enginesize = []\n",
    "price = []\n",
    "image = []\n",
    "milage = []\n",
    "reg_year = []\n",
    "transmission = []\n",
    "fuel = []\n",
    "transmission_list = ['Manual', 'Automatic']\n",
    "fuel_type_list = ['Petrol','Diesel','Electric','Hybrid','Plug_in_Hybrid']\n",
    "\n",
    "import requests\n",
    "from bs4 import BeautifulSoup\n",
    "import pandas as pd\n",
    "\n",
    "\n",
    "useragent = 'Mozilla/5.0 (Windows NT 10.0; Win64; x64) AppleWebKit/537.36 (KHTML, like Gecko) Chrome/96.0.4664.110 Safari/537.36'\n",
    "\n",
    "for fuel_type in fuel_type_list:\n",
    "    for transmission_type in transmission_list:\n",
    "        pageno = 0\n",
    "        for pageno in range(100):\n",
    "            pageno += 1\n",
    "            try:\n",
    "                url = fr'https://www.cazoo.co.uk/cars/?fuelType={fuel_type}&gearbox={transmission_type}&page={pageno}'\n",
    "                r = requests.get(url, headers = {'user-agent': useragent})\n",
    "                soup = BeautifulSoup(r.content, 'html.parser')\n",
    "                results = soup.find_all('article',{'class':'vehicle-cardstyles__Card-sc-1bxv5iu-0 giiAxy'})\n",
    "\n",
    "                for result in results:\n",
    "                    try:\n",
    "                        make.append(result.find('h2',{'class':'vehicle-cardstyles__Title-sc-1bxv5iu-6 ffMRuV'}).text.split()[0])\n",
    "                    except:\n",
    "                        make.append(None)\n",
    "                    try:\n",
    "                        model.append(result.find('h2',{'class':'vehicle-cardstyles__Title-sc-1bxv5iu-6 ffMRuV'}).text.split()[1])\n",
    "                    except:\n",
    "                        model.append(None)\n",
    "                    try:\n",
    "                        enginesize.append(result.find('p',{'class':'vehicle-cardstyles__DisplayVariant-sc-1bxv5iu-7 cErJHu'}).text.split()[0])\n",
    "                    except:\n",
    "                        enginesize.append(None)\n",
    "                    try:\n",
    "                        price.append(result.find('p',{'data-test-id':'card-pricing-full-price-gb'}).text)\n",
    "                    except:\n",
    "                        price.append(None)\n",
    "                    try:\n",
    "                        image.append(result.find('img')['src'])\n",
    "                    except:\n",
    "                        image.append(None)\n",
    "                    try:\n",
    "                        milage.append(result.find_all('li',{'class':'tagstyles__Wrap-fucsb4-0 cfDCga'})[0].text)\n",
    "                    except:\n",
    "                        milage.append(None)\n",
    "                    try:\n",
    "                        reg_year.append(result.find_all('li',{'class':'tagstyles__Wrap-fucsb4-0 cfDCga'})[1].text)\n",
    "                    except:\n",
    "                        reg_year.append(None)\n",
    "                    transmission.append(transmission_type)\n",
    "                    fuel.append(fuel_type)\n",
    "            except: \n",
    "                pass\n",
    "    \n",
    "        \n",
    "dict_of_lists = {'Make': make, 'Model': model,'Engine_Size': enginesize,'Price': price,'Milage': milage,'Transmission': transmission,'Fuel_Type': fuel,'Reg_Year': reg_year,'Image': image}\n",
    "\n",
    "df = pd.DataFrame(dict_of_lists)\n",
    "df = df.drop_duplicates(subset = None) "
   ]
  },
  {
   "cell_type": "code",
   "execution_count": 7,
   "id": "4c6051a2",
   "metadata": {},
   "outputs": [
    {
     "data": {
      "text/html": [
       "<div>\n",
       "<style scoped>\n",
       "    .dataframe tbody tr th:only-of-type {\n",
       "        vertical-align: middle;\n",
       "    }\n",
       "\n",
       "    .dataframe tbody tr th {\n",
       "        vertical-align: top;\n",
       "    }\n",
       "\n",
       "    .dataframe thead th {\n",
       "        text-align: right;\n",
       "    }\n",
       "</style>\n",
       "<table border=\"1\" class=\"dataframe\">\n",
       "  <thead>\n",
       "    <tr style=\"text-align: right;\">\n",
       "      <th></th>\n",
       "      <th>Make</th>\n",
       "      <th>Model</th>\n",
       "      <th>Engine_Size</th>\n",
       "      <th>Price</th>\n",
       "      <th>Milage</th>\n",
       "      <th>Transmission</th>\n",
       "      <th>Fuel_Type</th>\n",
       "      <th>Reg_Year</th>\n",
       "      <th>Image</th>\n",
       "    </tr>\n",
       "  </thead>\n",
       "  <tbody>\n",
       "    <tr>\n",
       "      <th>0</th>\n",
       "      <td>Nissan</td>\n",
       "      <td>Micra</td>\n",
       "      <td>1.2L</td>\n",
       "      <td>£5,600</td>\n",
       "      <td>42,109 miles</td>\n",
       "      <td>Manual</td>\n",
       "      <td>Petrol</td>\n",
       "      <td>2016 reg</td>\n",
       "      <td>https://res.cloudinary.com/cazoo/image/upload/...</td>\n",
       "    </tr>\n",
       "    <tr>\n",
       "      <th>1</th>\n",
       "      <td>Suzuki</td>\n",
       "      <td>Celerio</td>\n",
       "      <td>1L</td>\n",
       "      <td>£6,250</td>\n",
       "      <td>7,818 miles</td>\n",
       "      <td>Manual</td>\n",
       "      <td>Petrol</td>\n",
       "      <td>2017 reg</td>\n",
       "      <td>https://res.cloudinary.com/cazoo/image/upload/...</td>\n",
       "    </tr>\n",
       "    <tr>\n",
       "      <th>2</th>\n",
       "      <td>Toyota</td>\n",
       "      <td>AYGO</td>\n",
       "      <td>1L</td>\n",
       "      <td>£8,150</td>\n",
       "      <td>21,915 miles</td>\n",
       "      <td>Manual</td>\n",
       "      <td>Petrol</td>\n",
       "      <td>2018 reg</td>\n",
       "      <td>https://res.cloudinary.com/cazoo/image/upload/...</td>\n",
       "    </tr>\n",
       "    <tr>\n",
       "      <th>3</th>\n",
       "      <td>Fiat</td>\n",
       "      <td>500</td>\n",
       "      <td>1.2L</td>\n",
       "      <td>£7,350</td>\n",
       "      <td>21,435 miles</td>\n",
       "      <td>Manual</td>\n",
       "      <td>Petrol</td>\n",
       "      <td>2017 reg</td>\n",
       "      <td>https://res.cloudinary.com/cazoo/image/upload/...</td>\n",
       "    </tr>\n",
       "    <tr>\n",
       "      <th>4</th>\n",
       "      <td>Toyota</td>\n",
       "      <td>AYGO</td>\n",
       "      <td>1L</td>\n",
       "      <td>£8,600</td>\n",
       "      <td>16,373 miles</td>\n",
       "      <td>Manual</td>\n",
       "      <td>Petrol</td>\n",
       "      <td>2019 reg</td>\n",
       "      <td>https://res.cloudinary.com/cazoo/image/upload/...</td>\n",
       "    </tr>\n",
       "    <tr>\n",
       "      <th>...</th>\n",
       "      <td>...</td>\n",
       "      <td>...</td>\n",
       "      <td>...</td>\n",
       "      <td>...</td>\n",
       "      <td>...</td>\n",
       "      <td>...</td>\n",
       "      <td>...</td>\n",
       "      <td>...</td>\n",
       "      <td>...</td>\n",
       "    </tr>\n",
       "    <tr>\n",
       "      <th>5119</th>\n",
       "      <td>BMW</td>\n",
       "      <td>5</td>\n",
       "      <td>2L</td>\n",
       "      <td>£48,850</td>\n",
       "      <td>8,348 miles</td>\n",
       "      <td>Automatic</td>\n",
       "      <td>Plug_in_Hybrid</td>\n",
       "      <td>2021 reg</td>\n",
       "      <td>https://res.cloudinary.com/cazoo/image/upload/...</td>\n",
       "    </tr>\n",
       "    <tr>\n",
       "      <th>5120</th>\n",
       "      <td>Audi</td>\n",
       "      <td>A8</td>\n",
       "      <td>3L</td>\n",
       "      <td>£49,925</td>\n",
       "      <td>6,502 miles</td>\n",
       "      <td>Automatic</td>\n",
       "      <td>Plug_in_Hybrid</td>\n",
       "      <td>2020 reg</td>\n",
       "      <td>https://res.cloudinary.com/cazoo/image/upload/...</td>\n",
       "    </tr>\n",
       "    <tr>\n",
       "      <th>5121</th>\n",
       "      <td>Land</td>\n",
       "      <td>Rover</td>\n",
       "      <td>1.5L</td>\n",
       "      <td>£52,975</td>\n",
       "      <td>9,440 miles</td>\n",
       "      <td>Automatic</td>\n",
       "      <td>Plug_in_Hybrid</td>\n",
       "      <td>2020 reg</td>\n",
       "      <td>https://res.cloudinary.com/cazoo/image/upload/...</td>\n",
       "    </tr>\n",
       "    <tr>\n",
       "      <th>5122</th>\n",
       "      <td>Volvo</td>\n",
       "      <td>XC90</td>\n",
       "      <td>2L</td>\n",
       "      <td>£50,950</td>\n",
       "      <td>24,541 miles</td>\n",
       "      <td>Automatic</td>\n",
       "      <td>Plug_in_Hybrid</td>\n",
       "      <td>2018 reg</td>\n",
       "      <td>https://res.cloudinary.com/cazoo/image/upload/...</td>\n",
       "    </tr>\n",
       "    <tr>\n",
       "      <th>5123</th>\n",
       "      <td>Land</td>\n",
       "      <td>Rover</td>\n",
       "      <td>2L</td>\n",
       "      <td>£63,225</td>\n",
       "      <td>24,643 miles</td>\n",
       "      <td>Automatic</td>\n",
       "      <td>Plug_in_Hybrid</td>\n",
       "      <td>2018 reg</td>\n",
       "      <td>https://res.cloudinary.com/cazoo/image/upload/...</td>\n",
       "    </tr>\n",
       "  </tbody>\n",
       "</table>\n",
       "<p>5036 rows × 9 columns</p>\n",
       "</div>"
      ],
      "text/plain": [
       "        Make    Model Engine_Size    Price        Milage Transmission  \\\n",
       "0     Nissan    Micra        1.2L   £5,600  42,109 miles       Manual   \n",
       "1     Suzuki  Celerio          1L   £6,250   7,818 miles       Manual   \n",
       "2     Toyota     AYGO          1L   £8,150  21,915 miles       Manual   \n",
       "3       Fiat      500        1.2L   £7,350  21,435 miles       Manual   \n",
       "4     Toyota     AYGO          1L   £8,600  16,373 miles       Manual   \n",
       "...      ...      ...         ...      ...           ...          ...   \n",
       "5119     BMW        5          2L  £48,850   8,348 miles    Automatic   \n",
       "5120    Audi       A8          3L  £49,925   6,502 miles    Automatic   \n",
       "5121    Land    Rover        1.5L  £52,975   9,440 miles    Automatic   \n",
       "5122   Volvo     XC90          2L  £50,950  24,541 miles    Automatic   \n",
       "5123    Land    Rover          2L  £63,225  24,643 miles    Automatic   \n",
       "\n",
       "           Fuel_Type  Reg_Year  \\\n",
       "0             Petrol  2016 reg   \n",
       "1             Petrol  2017 reg   \n",
       "2             Petrol  2018 reg   \n",
       "3             Petrol  2017 reg   \n",
       "4             Petrol  2019 reg   \n",
       "...              ...       ...   \n",
       "5119  Plug_in_Hybrid  2021 reg   \n",
       "5120  Plug_in_Hybrid  2020 reg   \n",
       "5121  Plug_in_Hybrid  2020 reg   \n",
       "5122  Plug_in_Hybrid  2018 reg   \n",
       "5123  Plug_in_Hybrid  2018 reg   \n",
       "\n",
       "                                                  Image  \n",
       "0     https://res.cloudinary.com/cazoo/image/upload/...  \n",
       "1     https://res.cloudinary.com/cazoo/image/upload/...  \n",
       "2     https://res.cloudinary.com/cazoo/image/upload/...  \n",
       "3     https://res.cloudinary.com/cazoo/image/upload/...  \n",
       "4     https://res.cloudinary.com/cazoo/image/upload/...  \n",
       "...                                                 ...  \n",
       "5119  https://res.cloudinary.com/cazoo/image/upload/...  \n",
       "5120  https://res.cloudinary.com/cazoo/image/upload/...  \n",
       "5121  https://res.cloudinary.com/cazoo/image/upload/...  \n",
       "5122  https://res.cloudinary.com/cazoo/image/upload/...  \n",
       "5123  https://res.cloudinary.com/cazoo/image/upload/...  \n",
       "\n",
       "[5036 rows x 9 columns]"
      ]
     },
     "execution_count": 7,
     "metadata": {},
     "output_type": "execute_result"
    }
   ],
   "source": [
    "df"
   ]
  },
  {
   "cell_type": "code",
   "execution_count": 8,
   "id": "1eb2712b",
   "metadata": {},
   "outputs": [],
   "source": [
    "df.to_csv('Cazoo_23_12_2021.csv')"
   ]
  },
  {
   "cell_type": "code",
   "execution_count": null,
   "id": "d26cdacb",
   "metadata": {},
   "outputs": [],
   "source": []
  }
 ],
 "metadata": {
  "kernelspec": {
   "display_name": "Python 3",
   "language": "python",
   "name": "python3"
  },
  "language_info": {
   "codemirror_mode": {
    "name": "ipython",
    "version": 3
   },
   "file_extension": ".py",
   "mimetype": "text/x-python",
   "name": "python",
   "nbconvert_exporter": "python",
   "pygments_lexer": "ipython3",
   "version": "3.8.8"
  }
 },
 "nbformat": 4,
 "nbformat_minor": 5
}
